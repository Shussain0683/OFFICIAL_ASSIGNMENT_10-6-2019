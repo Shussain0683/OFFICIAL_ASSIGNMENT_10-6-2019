{
 "cells": [
  {
   "cell_type": "markdown",
   "metadata": {},
   "source": [
    "# ASSIGNMENT "
   ]
  },
  {
   "cell_type": "markdown",
   "metadata": {},
   "source": [
    "<h3> 1 : Declare and initialize a variable name total_marks with a value 500</h3>\n"
   ]
  },
  {
   "cell_type": "code",
   "execution_count": null,
   "metadata": {},
   "outputs": [],
   "source": [
    "total_marks=55"
   ]
  },
  {
   "cell_type": "markdown",
   "metadata": {},
   "source": [
    "<h3> 2 : Declare and initialize 5 variables name maths , english , urdu , physics and chemisrty with different integer values</h3>"
   ]
  },
  {
   "cell_type": "code",
   "execution_count": null,
   "metadata": {},
   "outputs": [],
   "source": [
    "maths=75\n",
    "english=98\n",
    "urdu=87\n",
    "physics=78\n",
    "chemisty=84"
   ]
  },
  {
   "cell_type": "markdown",
   "metadata": {},
   "source": [
    "<h3>3 : Calculate the obtained marks And assign the value In variable name obtained_marks</h3>"
   ]
  },
  {
   "cell_type": "code",
   "execution_count": 4,
   "metadata": {},
   "outputs": [
    {
     "name": "stdout",
     "output_type": "stream",
     "text": [
      "422\n"
     ]
    }
   ],
   "source": [
    "maths=75\n",
    "english=98\n",
    "urdu=87\n",
    "physics=78\n",
    "chemistry=84\n",
    "obtained_marks=(maths+english+urdu+physics+chemistry)\n",
    "print(obtained_marks)"
   ]
  },
  {
   "cell_type": "markdown",
   "metadata": {},
   "source": [
    "<h3>4 : Calculate percentage and assign the value in variable name percentage</h3>"
   ]
  },
  {
   "cell_type": "code",
   "execution_count": 9,
   "metadata": {},
   "outputs": [
    {
     "name": "stdout",
     "output_type": "stream",
     "text": [
      "84\n"
     ]
    }
   ],
   "source": [
    "percentage=obtained_marks/500*100\n",
    "print(int(percentage))"
   ]
  },
  {
   "cell_type": "markdown",
   "metadata": {},
   "source": [
    "<h3>5 : Declare and initialize an empty variable name grade </h3>"
   ]
  },
  {
   "cell_type": "code",
   "execution_count": 16,
   "metadata": {},
   "outputs": [
    {
     "name": "stdout",
     "output_type": "stream",
     "text": [
      "YOUR GRADE IS A\n"
     ]
    }
   ],
   "source": [
    "grade=''\n",
    "if percentage>=84:\n",
    "    grade='A'\n",
    "    print(\"YOUR GRADE IS\", grade)    "
   ]
  },
  {
   "cell_type": "markdown",
   "metadata": {},
   "source": [
    "### 6: print your biodata "
   ]
  },
  {
   "cell_type": "code",
   "execution_count": 1,
   "metadata": {},
   "outputs": [
    {
     "name": "stdout",
     "output_type": "stream",
     "text": [
      " NAME:   MUHAMMAD SHOAIB \n",
      " FATHER NAME:    ABDUL RAHIM \n",
      " ROLL NO.     AIC-010529 \n",
      " Campus :  Saylani Gulshan Campus\n"
     ]
    }
   ],
   "source": [
    "print(\" NAME:   MUHAMMAD SHOAIB \\n FATHER NAME:    ABDUL RAHIM \\n ROLL NO.     AIC-010529 \\n Campus :  Saylani Gulshan Campus\")"
   ]
  },
  {
   "cell_type": "code",
   "execution_count": null,
   "metadata": {},
   "outputs": [],
   "source": []
  }
 ],
 "metadata": {
  "kernelspec": {
   "display_name": "Python 3",
   "language": "python",
   "name": "python3"
  },
  "language_info": {
   "codemirror_mode": {
    "name": "ipython",
    "version": 3
   },
   "file_extension": ".py",
   "mimetype": "text/x-python",
   "name": "python",
   "nbconvert_exporter": "python",
   "pygments_lexer": "ipython3",
   "version": "3.7.3"
  }
 },
 "nbformat": 4,
 "nbformat_minor": 2
}
