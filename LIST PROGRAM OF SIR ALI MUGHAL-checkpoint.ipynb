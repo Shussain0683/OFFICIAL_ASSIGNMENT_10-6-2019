{
 "cells": [
  {
   "cell_type": "code",
   "execution_count": null,
   "metadata": {},
   "outputs": [
    {
     "name": "stdout",
     "output_type": "stream",
     "text": [
      "Enter length of list you want to create: 5\n",
      "Enter the name you want to add in list: shoaib\n",
      "Enter the name you want to add in list: waqas\n",
      "Enter the name you want to add in list: noman\n"
     ]
    }
   ],
   "source": [
    "list1=[]\n",
    "number_of_member=int(input(\"Enter length of list you want to create: \"))\n",
    "for i in range(number_of_member):\n",
    "    names_to_enter=input(\"Enter the name you want to add in list: \")\n",
    "    list1.append(names_to_enter)\n",
    "print(list1)\n",
    "number_to_delete=int(input(\"Enter the number of names you want to delete: \"))\n",
    "for i in range(number_to_delete):\n",
    "    names_to_delete=input(\"Enter the name you want to delete from list: \")\n",
    "    list1.remove(names_to_delete)\n",
    "print(list1)\n",
    "print(\"End program\")\n",
    "    "
   ]
  },
  {
   "cell_type": "code",
   "execution_count": null,
   "metadata": {},
   "outputs": [],
   "source": []
  }
 ],
 "metadata": {
  "kernelspec": {
   "display_name": "Python 3",
   "language": "python",
   "name": "python3"
  },
  "language_info": {
   "codemirror_mode": {
    "name": "ipython",
    "version": 3
   },
   "file_extension": ".py",
   "mimetype": "text/x-python",
   "name": "python",
   "nbconvert_exporter": "python",
   "pygments_lexer": "ipython3",
   "version": "3.7.3"
  }
 },
 "nbformat": 4,
 "nbformat_minor": 2
}
